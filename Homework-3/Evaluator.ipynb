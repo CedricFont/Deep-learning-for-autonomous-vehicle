{
  "nbformat": 4,
  "nbformat_minor": 0,
  "metadata": {
    "colab": {
      "name": "Evaluator.ipynb",
      "provenance": [],
      "collapsed_sections": []
    },
    "kernelspec": {
      "name": "python3",
      "display_name": "Python 3"
    },
    "language_info": {
      "name": "python"
    }
  },
  "cells": [
    {
      "cell_type": "code",
      "execution_count": 1,
      "metadata": {
        "id": "aEW8FsaTRaOo"
      },
      "outputs": [],
      "source": [
        "import numpy as np\n",
        "\n",
        "import torch\n",
        "from torch import nn\n",
        "from torch import optim\n",
        "import torch.nn.functional as F\n",
        "import torch.utils.data as utils\n",
        "from torchvision import datasets, transforms\n",
        "from torch.utils.data.sampler import SubsetRandomSampler\n",
        "import os\n",
        "import platform\n",
        "import pickle"
      ]
    },
    {
      "cell_type": "code",
      "source": [
        "from google.colab import drive\n",
        "drive.mount('/content/drive')"
      ],
      "metadata": {
        "id": "bJAZFldDTQRz",
        "colab": {
          "base_uri": "https://localhost:8080/"
        },
        "outputId": "278c0400-78f4-4cb3-8276-1e623e76be40"
      },
      "execution_count": 2,
      "outputs": [
        {
          "output_type": "stream",
          "name": "stdout",
          "text": [
            "Mounted at /content/drive\n"
          ]
        }
      ]
    },
    {
      "cell_type": "code",
      "source": [
        "!rm -r DLAV-2022\n",
        "!git clone https://github.com/vita-epfl/DLAV-2022.git\n",
        "path = os.getcwd() + '/DLAV-2022/homeworks/hw2/test_batch'"
      ],
      "metadata": {
        "id": "dtBf2_UXTPVs",
        "colab": {
          "base_uri": "https://localhost:8080/"
        },
        "outputId": "18a2e035-cd35-49b5-bacc-f145f60b072a"
      },
      "execution_count": 3,
      "outputs": [
        {
          "output_type": "stream",
          "name": "stdout",
          "text": [
            "rm: cannot remove 'DLAV-2022': No such file or directory\n",
            "Cloning into 'DLAV-2022'...\n",
            "remote: Enumerating objects: 87, done.\u001b[K\n",
            "remote: Counting objects: 100% (87/87), done.\u001b[K\n",
            "remote: Compressing objects: 100% (65/65), done.\u001b[K\n",
            "remote: Total 87 (delta 32), reused 65 (delta 17), pack-reused 0\u001b[K\n",
            "Unpacking objects: 100% (87/87), done.\n"
          ]
        }
      ]
    },
    {
      "cell_type": "code",
      "source": [
        "# Set the variable to the location of the trained model\n",
        "model_path = \"drive/MyDrive/Colab Notebooks/CNN_pytorch_3_2_10_epochs.ckpt\""
      ],
      "metadata": {
        "id": "QB1xSP9nUZGQ"
      },
      "execution_count": 4,
      "outputs": []
    },
    {
      "cell_type": "code",
      "source": [
        "class ConvNet(nn.Module):\n",
        "    def __init__(self, n_input_channels=3, n_output=10):\n",
        "        super().__init__()\n",
        "        ################################################################################\n",
        "        # TODO:                                                                        #\n",
        "        # Define 2 or more different layers of the neural network                      #\n",
        "        ################################################################################\n",
        "        \n",
        "        self.feature_extractor = torch.nn.Sequential(\n",
        "            \n",
        "          torch.nn.Conv2d(3, 16, kernel_size=(5,5)), # 32 - 5 + 1 = 28\n",
        "          torch.nn.BatchNorm2d(16),\n",
        "          torch.nn.ReLU(inplace=True),\n",
        "          torch.nn.MaxPool2d(kernel_size=(2,2), stride=2), # 28 / 2 = 14\n",
        "\n",
        "          torch.nn.Conv2d(16, 32, kernel_size=(5,5)), # 14-5+1 = 10\n",
        "          torch.nn.BatchNorm2d(32),\n",
        "          torch.nn.ReLU(inplace=True),\n",
        "          torch.nn.MaxPool2d(kernel_size=(2,2), stride=2), # 10/2=5\n",
        "\n",
        "          torch.nn.Conv2d(32, 64, kernel_size=(3,3)), # 5-3+1=3\n",
        "          torch.nn.BatchNorm2d(64),\n",
        "          torch.nn.ReLU(inplace=True),\n",
        "          torch.nn.MaxPool2d(kernel_size=(2,2), stride=1) # 10/2=5\n",
        "\n",
        "        ) # Output : 64x2x2\n",
        "\n",
        "        self.classifier = torch.nn.Sequential(\n",
        "            \n",
        "          torch.nn.Linear(64*2*2, 120),\n",
        "          torch.nn.ReLU(inplace=True),\n",
        "          torch.nn.Linear(120, 10)\n",
        "\n",
        "        )\n",
        "\n",
        "        ################################################################################\n",
        "        #                              END OF YOUR CODE                                #\n",
        "        ################################################################################\n",
        "    \n",
        "    def forward(self, x):\n",
        "        ################################################################################\n",
        "        # TODO:                                                                        #\n",
        "        # Set up the forward pass that the input data will go through.                 #\n",
        "        # A good activation function betweent the layers is a ReLu function.           #\n",
        "        #                                                                              #\n",
        "        # Note that the output of the last convolution layer should be flattened       #\n",
        "        # before being inputted to the fully connected layer. We can flatten           #\n",
        "        # Tensor `x` with `x.view`.                                                    #\n",
        "        ################################################################################\n",
        "        \n",
        "        x = self.feature_extractor(x)\n",
        "        # print(x.size())\n",
        "        x = x.view(x.size(0), -1)\n",
        "        # print(x.size())\n",
        "        x = self.classifier(x)\n",
        "\n",
        "        ################################################################################\n",
        "        #                              END OF YOUR CODE                                #\n",
        "        ################################################################################\n",
        "        \n",
        "        return x\n",
        "    \n",
        "    def predict(self, x):\n",
        "        logits = self.forward(x)\n",
        "        return F.softmax(logits)"
      ],
      "metadata": {
        "id": "QEIcPZ4hT7fY"
      },
      "execution_count": 5,
      "outputs": []
    },
    {
      "cell_type": "code",
      "source": [
        "def predict_usingCNN(X):\n",
        "    #########################################################################\n",
        "    # TODO:                                                                 #\n",
        "    # - Load your saved model                                               #\n",
        "    # - Do the operation required to get the predictions                    #\n",
        "    # - Return predictions in a numpy array                                 #\n",
        "    # Note: For the predictions, you have to return the index of the max    #\n",
        "    # value                                                                 #\n",
        "    #########################################################################\n",
        "  \n",
        "    net = ConvNet()\n",
        "    checkpoint = torch.load(\"drive/MyDrive/Colab Notebooks/CNN_pytorch_3_2_10_epochs.ckpt\")\n",
        "    net.load_state_dict(checkpoint)\n",
        "    # y_pred = net(X)\n",
        "    y_pred = torch.argmax(net(X), dim=1)\n",
        "\n",
        "    #########################################################################\n",
        "    #                       END OF YOUR CODE                                #\n",
        "    #########################################################################\n",
        "    return y_pred.numpy()\n",
        "   "
      ],
      "metadata": {
        "id": "p5v7OgpDR4m2"
      },
      "execution_count": 6,
      "outputs": []
    },
    {
      "cell_type": "code",
      "source": [
        "## Read DATA\n",
        "def load_pickle(f):\n",
        "    version = platform.python_version_tuple()\n",
        "    if version[0] == '2':\n",
        "        return  pickle.load(f)\n",
        "    elif version[0] == '3':\n",
        "        return  pickle.load(f, encoding='latin1')\n",
        "    raise ValueError(\"invalid python version: {}\".format(version))\n",
        "\n",
        "def load_CIFAR_batch(filename):\n",
        "  \"\"\" load single batch of cifar \"\"\"\n",
        "  with open(filename, 'rb') as f:\n",
        "    datadict = load_pickle(f)\n",
        "    X = datadict['data']\n",
        "    Y = datadict['labels']\n",
        "    X = X.reshape(10000, 3, 32, 32).astype(\"float\")\n",
        "    Y = np.array(Y)\n",
        "    return X, Y\n",
        "test_filename = path\n",
        "X,Y = load_CIFAR_batch(test_filename)"
      ],
      "metadata": {
        "id": "IGqVw4U3Sy21"
      },
      "execution_count": 7,
      "outputs": []
    },
    {
      "cell_type": "code",
      "source": [
        "# Data Manipulation\n",
        "mean_pytorch = np.array([0.4914, 0.4822, 0.4465])\n",
        "std_pytorch = np.array([0.2023, 0.1994, 0.2010])\n",
        "X_pytorch = np.divide(np.subtract( X/255 , mean_pytorch[np.newaxis, :,np.newaxis,np.newaxis]), std_pytorch[np.newaxis, :,np.newaxis,np.newaxis])\n",
        "\n",
        "# Run Prediction and Evaluation\n",
        "prediction_cnn = predict_usingCNN(torch.from_numpy(X_pytorch).float())\n",
        "acc_cnn = np.sum(prediction_cnn == Y)/len(X_pytorch)\n",
        "print(\"CNN Accuracy= %f\"%(acc_cnn))"
      ],
      "metadata": {
        "id": "qiRBbv7fR-DB",
        "colab": {
          "base_uri": "https://localhost:8080/"
        },
        "outputId": "adc6f170-f178-4c25-e722-1805a4b2743f"
      },
      "execution_count": 8,
      "outputs": [
        {
          "output_type": "stream",
          "name": "stdout",
          "text": [
            "CNN Accuracy= 0.760400\n"
          ]
        }
      ]
    }
  ]
}