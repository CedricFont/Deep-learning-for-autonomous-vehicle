{
  "cells": [
    {
      "cell_type": "markdown",
      "metadata": {
        "id": "zkBaRBuNrh-Q"
      },
      "source": [
        "# Intro to Python: Exercise 2\n",
        "\n",
        "## Pairwise Distances in the Plane\n",
        "\n",
        "One application of machine learning to computer vision is interest point tracking. The location of corners in an image is tracked along subsequent frames of a video signal (see Figure 1 for a synthetic example). In this context, one is often interested in the pairwise distance of all points in the first frame to all points in the second frame. Matching points according to minimal distance is a simple heuristic that works well if many interest points are found in both frames and perturbations are small.\n",
        "Write a function that accepts two matrices P ∈ R<sup>p×2</sup>,Q ∈ R<sup>q×2</sup> as input, where each row contains the (x,y) coordinates of an interest point. Note that the number of points (p and q) do not have to be equal. As output, compute the pairwise distances of all points in P to all points in Q and collect them in matrix D. Element D<sub>i,j</sub> is the Euclidean distance of the i-th point in P to the j-th point in Q."
      ]
    },
    {
      "cell_type": "code",
      "execution_count": 1,
      "metadata": {
        "id": "u0m6Etqarh-X"
      },
      "outputs": [],
      "source": [
        "%matplotlib inline\n",
        "import numpy as np\n",
        "import matplotlib.pyplot as plt\n",
        "%load_ext autoreload\n",
        "%autoreload 2"
      ]
    },
    {
      "cell_type": "markdown",
      "metadata": {
        "id": "UpnbNmWprh-Z"
      },
      "source": [
        "Data Generation\n",
        "==="
      ]
    },
    {
      "cell_type": "code",
      "execution_count": 2,
      "metadata": {
        "id": "4KjabjEerh-Z",
        "outputId": "5d4a033f-6d05-4ef1-df92-b35dfe737b4b",
        "colab": {
          "base_uri": "https://localhost:8080/"
        }
      },
      "outputs": [
        {
          "output_type": "stream",
          "name": "stdout",
          "text": [
            "[[0.77132064 0.02075195]\n",
            " [0.63364823 0.74880388]\n",
            " [0.49850701 0.22479665]\n",
            " [0.19806286 0.76053071]] \n",
            "\n",
            " [[0.16911084 0.08833981]\n",
            " [0.68535982 0.95339335]\n",
            " [0.00394827 0.51219226]\n",
            " [0.81262096 0.61252607]\n",
            " [0.72175532 0.29187607]]\n"
          ]
        }
      ],
      "source": [
        "np.random.seed(10)\n",
        "p, q = (np.random.rand(i, 2) for i in (4, 5))\n",
        "p_big, q_big = (np.random.rand(i, 80) for i in (100, 120))\n",
        "\n",
        "print(p, \"\\n\\n\", q)"
      ]
    },
    {
      "cell_type": "markdown",
      "metadata": {
        "id": "_3QbS0Jerh-a"
      },
      "source": [
        "Solution\n",
        "==="
      ]
    },
    {
      "cell_type": "code",
      "execution_count": 17,
      "metadata": {
        "collapsed": true,
        "id": "Ah0tiytjrh-b",
        "outputId": "2834b0ba-f77e-4ab9-c3b7-7920e0fa68d7",
        "colab": {
          "base_uri": "https://localhost:8080/"
        }
      },
      "outputs": [
        {
          "output_type": "execute_result",
          "data": {
            "text/plain": [
              "array([[0.60599073, 0.93659449, 0.91124856, 0.59321356, 0.27561751],\n",
              "       [0.80746999, 0.21102354, 0.67268649, 0.22495084, 0.46534491],\n",
              "       [0.35654215, 0.75217493, 0.57200052, 0.49900068, 0.23310825],\n",
              "       [0.67281411, 0.52407472, 0.31520226, 0.63212897, 0.70277376]])"
            ]
          },
          "metadata": {},
          "execution_count": 17
        }
      ],
      "source": [
        "def naive(p, q):\n",
        "    \n",
        "    D = np.empty([p.shape[0],q.shape[0]])\n",
        "    for i in range(p.shape[0]):\n",
        "      for j in range(q.shape[0]):\n",
        "        D[i,j] = np.linalg.norm(p[i,:]-q[j,:],ord=2)\n",
        "    return D\n",
        "\n",
        "naive(p,q)"
      ]
    },
    {
      "cell_type": "markdown",
      "metadata": {
        "id": "Y0Z7tcDNrh-b"
      },
      "source": [
        "### Use matching indices\n",
        "\n",
        "Instead of iterating through indices, one can use them directly to parallelize the operations with Numpy."
      ]
    },
    {
      "cell_type": "code",
      "execution_count": 21,
      "metadata": {
        "id": "2K4nx6zWrh-c",
        "outputId": "58675635-af71-43aa-b798-1ff5d6a603f9",
        "colab": {
          "base_uri": "https://localhost:8080/"
        }
      },
      "outputs": [
        {
          "output_type": "stream",
          "name": "stdout",
          "text": [
            "[[0 0 0 0 0]\n",
            " [1 1 1 1 1]\n",
            " [2 2 2 2 2]\n",
            " [3 3 3 3 3]]\n",
            "\n",
            "[[0 1 2 3 4]\n",
            " [0 1 2 3 4]\n",
            " [0 1 2 3 4]\n",
            " [0 1 2 3 4]]\n"
          ]
        }
      ],
      "source": [
        "rows, cols = np.indices((p.shape[0], q.shape[0]))\n",
        "print(rows, end='\\n\\n')\n",
        "print(cols)"
      ]
    },
    {
      "cell_type": "code",
      "execution_count": 22,
      "metadata": {
        "id": "aKhxgbeRrh-d",
        "outputId": "e2116576-02b5-402b-d52a-ce43ebee80ac",
        "colab": {
          "base_uri": "https://localhost:8080/"
        }
      },
      "outputs": [
        {
          "output_type": "stream",
          "name": "stdout",
          "text": [
            "[[0.77132064 0.02075195]\n",
            " [0.77132064 0.02075195]\n",
            " [0.77132064 0.02075195]\n",
            " [0.77132064 0.02075195]\n",
            " [0.77132064 0.02075195]\n",
            " [0.63364823 0.74880388]\n",
            " [0.63364823 0.74880388]\n",
            " [0.63364823 0.74880388]\n",
            " [0.63364823 0.74880388]\n",
            " [0.63364823 0.74880388]\n",
            " [0.49850701 0.22479665]\n",
            " [0.49850701 0.22479665]\n",
            " [0.49850701 0.22479665]\n",
            " [0.49850701 0.22479665]\n",
            " [0.49850701 0.22479665]\n",
            " [0.19806286 0.76053071]\n",
            " [0.19806286 0.76053071]\n",
            " [0.19806286 0.76053071]\n",
            " [0.19806286 0.76053071]\n",
            " [0.19806286 0.76053071]]\n",
            "\n",
            "[[0.16911084 0.08833981]\n",
            " [0.68535982 0.95339335]\n",
            " [0.00394827 0.51219226]\n",
            " [0.81262096 0.61252607]\n",
            " [0.72175532 0.29187607]\n",
            " [0.16911084 0.08833981]\n",
            " [0.68535982 0.95339335]\n",
            " [0.00394827 0.51219226]\n",
            " [0.81262096 0.61252607]\n",
            " [0.72175532 0.29187607]\n",
            " [0.16911084 0.08833981]\n",
            " [0.68535982 0.95339335]\n",
            " [0.00394827 0.51219226]\n",
            " [0.81262096 0.61252607]\n",
            " [0.72175532 0.29187607]\n",
            " [0.16911084 0.08833981]\n",
            " [0.68535982 0.95339335]\n",
            " [0.00394827 0.51219226]\n",
            " [0.81262096 0.61252607]\n",
            " [0.72175532 0.29187607]]\n"
          ]
        }
      ],
      "source": [
        "print(p[rows.ravel()], end='\\n\\n')\n",
        "print(q[cols.ravel()])"
      ]
    },
    {
      "cell_type": "code",
      "execution_count": 33,
      "metadata": {
        "collapsed": true,
        "id": "di8IV38wrh-e",
        "outputId": "3f78f2b6-c8ac-4c68-8246-dbab81c7bb2a",
        "colab": {
          "base_uri": "https://localhost:8080/"
        }
      },
      "outputs": [
        {
          "output_type": "execute_result",
          "data": {
            "text/plain": [
              "array([0.60599073, 0.93659449, 0.91124856, 0.59321356, 0.27561751,\n",
              "       0.80746999, 0.21102354, 0.67268649, 0.22495084, 0.46534491,\n",
              "       0.35654215, 0.75217493, 0.57200052, 0.49900068, 0.23310825,\n",
              "       0.67281411, 0.52407472, 0.31520226, 0.63212897, 0.70277376])"
            ]
          },
          "metadata": {},
          "execution_count": 33
        }
      ],
      "source": [
        "def with_indices(p, q):\n",
        "    rows, cols = np.indices((p.shape[0], q.shape[0]))\n",
        "    p = p[rows.ravel()]\n",
        "    q = q[cols.ravel()]\n",
        "    return np.linalg.norm(p-q,ord=2,axis=1)\n",
        "\n",
        "with_indices(p,q)"
      ]
    },
    {
      "cell_type": "code",
      "source": [
        "p.shape[0]"
      ],
      "metadata": {
        "id": "rI7FpRy7xX-3",
        "outputId": "864cf686-b1f0-4bec-a83c-3b2e2faff03a",
        "colab": {
          "base_uri": "https://localhost:8080/"
        }
      },
      "execution_count": 25,
      "outputs": [
        {
          "output_type": "execute_result",
          "data": {
            "text/plain": [
              "4"
            ]
          },
          "metadata": {},
          "execution_count": 25
        }
      ]
    },
    {
      "cell_type": "markdown",
      "metadata": {
        "id": "4nqfYvzSrh-f"
      },
      "source": [
        "### Use a library\n",
        "\n",
        "`scipy` is the equivalent of matlab toolboxes and have a lot to offer. Actually the pairwise computation is part of the library through the `spatial` module."
      ]
    },
    {
      "cell_type": "code",
      "execution_count": 14,
      "metadata": {
        "id": "tiSrIL2Yrh-f"
      },
      "outputs": [],
      "source": [
        "from scipy.spatial.distance import cdist\n",
        "\n",
        "def scipy_version(p, q):\n",
        "    return cdist(p, q)"
      ]
    },
    {
      "cell_type": "markdown",
      "metadata": {
        "id": "WjIRwmVGrh-g"
      },
      "source": [
        "### Numpy Magic"
      ]
    },
    {
      "cell_type": "code",
      "execution_count": 15,
      "metadata": {
        "id": "NDi79loUrh-g"
      },
      "outputs": [],
      "source": [
        "def tensor_broadcasting(p, q):\n",
        "    return np.sqrt(np.sum((p[:,np.newaxis,:]-q[np.newaxis,:,:])**2, axis=2))"
      ]
    },
    {
      "cell_type": "markdown",
      "metadata": {
        "id": "bP3dQza1rh-h"
      },
      "source": [
        "# Compare methods"
      ]
    },
    {
      "cell_type": "code",
      "execution_count": 34,
      "metadata": {
        "id": "aBz3mVksrh-h",
        "outputId": "c3a1dd9a-e6ae-4eb7-f9ad-032912a71c9d",
        "colab": {
          "base_uri": "https://localhost:8080/"
        }
      },
      "outputs": [
        {
          "output_type": "stream",
          "name": "stdout",
          "text": [
            "10 loops, best of 5: 85.7 ms per loop\n",
            "100 loops, best of 5: 4.77 ms per loop\n",
            "1000 loops, best of 5: 573 µs per loop\n",
            "100 loops, best of 5: 2.09 ms per loop\n"
          ]
        }
      ],
      "source": [
        "methods = [naive, with_indices, scipy_version, tensor_broadcasting]\n",
        "timers = []\n",
        "for f in methods:\n",
        "    r = %timeit -o f(p_big, q_big)\n",
        "    timers.append(r)"
      ]
    },
    {
      "cell_type": "code",
      "execution_count": 35,
      "metadata": {
        "id": "LWXZC0aMrh-i",
        "outputId": "2c0c3108-3de8-4966-9506-b89530052dd8",
        "colab": {
          "base_uri": "https://localhost:8080/",
          "height": 438
        }
      },
      "outputs": [
        {
          "output_type": "display_data",
          "data": {
            "image/png": "[encoded data removed]",
            "text/plain": [
              "<Figure size 720x432 with 1 Axes>"
            ]
          },
          "metadata": {
            "needs_background": "light"
          }
        }
      ],
      "source": [
        "plt.figure(figsize=(10,6))\n",
        "plt.bar(np.arange(len(methods)), [r.best*1000 for r in timers], log=False)  # Set log to True for logarithmic scale\n",
        "plt.xticks(np.arange(len(methods))+0.2, [f.__name__ for f in methods], rotation=30)\n",
        "plt.xlabel('Method')\n",
        "plt.ylabel('Time (ms)')\n",
        "plt.show()"
      ]
    },
    {
      "cell_type": "code",
      "execution_count": null,
      "metadata": {
        "collapsed": true,
        "id": "d4VUE9XDrh-i"
      },
      "outputs": [],
      "source": [
        ""
      ]
    }
  ],
  "metadata": {
    "kernelspec": {
      "display_name": "Python 3",
      "language": "python",
      "name": "python3"
    },
    "language_info": {
      "codemirror_mode": {
        "name": "ipython",
        "version": 3
      },
      "file_extension": ".py",
      "mimetype": "text/x-python",
      "name": "python",
      "nbconvert_exporter": "python",
      "pygments_lexer": "ipython3",
      "version": "3.6.4"
    },
    "colab": {
      "name": "Exercise 2.ipynb",
      "provenance": []
    }
  },
  "nbformat": 4,
  "nbformat_minor": 0
}